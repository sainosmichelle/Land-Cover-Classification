{
  "nbformat": 4,
  "nbformat_minor": 0,
  "metadata": {
    "colab": {
      "name": "2_Global_Local_Feature_Extraction.ipynb",
      "provenance": [],
      "collapsed_sections": []
    },
    "kernelspec": {
      "display_name": "Python 3",
      "name": "python3"
    }
  },
  "cells": [
    {
      "cell_type": "markdown",
      "metadata": {
        "id": "3zAXeXeGQF83"
      },
      "source": [
        "# 1. Feature extraction from images"
      ]
    },
    {
      "cell_type": "code",
      "metadata": {
        "colab": {
          "base_uri": "https://localhost:8080/"
        },
        "id": "HjefupOkbjGC",
        "outputId": "9274b41e-2c0f-4f29-aaef-8874dd0cf840"
      },
      "source": [
        "from google.colab import drive\r\n",
        "drive.mount('/content/drive', force_remount=True)"
      ],
      "execution_count": null,
      "outputs": [
        {
          "output_type": "stream",
          "text": [
            "Mounted at /content/drive\n"
          ],
          "name": "stdout"
        }
      ]
    },
    {
      "cell_type": "code",
      "metadata": {
        "id": "M55c0Y0Vbx6r"
      },
      "source": [
        "path = r'/content/drive/MyDrive/EuroSat/EuroSAT'"
      ],
      "execution_count": null,
      "outputs": []
    },
    {
      "cell_type": "code",
      "metadata": {
        "colab": {
          "base_uri": "https://localhost:8080/"
        },
        "id": "VLy20xA3p4oT",
        "outputId": "6e9afa77-4ef6-460d-ae92-074dad8c0a44"
      },
      "source": [
        "pip install mahotas"
      ],
      "execution_count": null,
      "outputs": [
        {
          "output_type": "stream",
          "text": [
            "Requirement already satisfied: mahotas in /usr/local/lib/python3.6/dist-packages (1.4.11)\n",
            "Requirement already satisfied: numpy in /usr/local/lib/python3.6/dist-packages (from mahotas) (1.19.4)\n"
          ],
          "name": "stdout"
        }
      ]
    },
    {
      "cell_type": "code",
      "metadata": {
        "id": "NdjH3j0qp0LK"
      },
      "source": [
        "import cv2\r\n",
        "import shutil\r\n",
        "import matplotlib.pyplot as plt\r\n",
        "import numpy as np\r\n",
        "import pandas as pd\r\n",
        "from skimage.feature import hog\r\n",
        "from skimage.io import imread\r\n",
        "from skimage.transform import rescale\r\n",
        "import pandas as pd\r\n",
        "import mahotas\r\n",
        "import os\r\n",
        "import random"
      ],
      "execution_count": null,
      "outputs": []
    },
    {
      "cell_type": "markdown",
      "metadata": {
        "id": "HjIiTYcVpilx"
      },
      "source": [
        "## Extractor de HoG, HISTC, HuM, HarT"
      ]
    },
    {
      "cell_type": "code",
      "metadata": {
        "id": "URf9r7VspvwL"
      },
      "source": [
        "path_images =  r'/content/drive/MyDrive/EuroSat/EuroSAT'"
      ],
      "execution_count": null,
      "outputs": []
    },
    {
      "cell_type": "code",
      "metadata": {
        "colab": {
          "base_uri": "https://localhost:8080/"
        },
        "id": "D-ldo2nvqJa3",
        "outputId": "ce1dd9e0-95cb-45c0-defa-98e60dca5d8a"
      },
      "source": [
        "folders = sorted([d for d in os.listdir(path_images) if os.path.isdir(os.path.join(path_images,d))])\r\n",
        "print(folders)\r\n",
        "fixed_size = (64, 64)"
      ],
      "execution_count": null,
      "outputs": [
        {
          "output_type": "stream",
          "text": [
            "['AnnualCrop', 'Forest', 'HerbaceousVegetation', 'Highway', 'Industrial', 'Pasture', 'PermanentCrop', 'Residential', 'River', 'SeaLake']\n"
          ],
          "name": "stdout"
        }
      ]
    },
    {
      "cell_type": "code",
      "metadata": {
        "colab": {
          "base_uri": "https://localhost:8080/",
          "height": 407
        },
        "id": "6pPJaQu3qJda",
        "outputId": "c54a9a0b-3e84-4369-a547-ef231926aa80"
      },
      "source": [
        "def count_labels(clases, path):\r\n",
        "    n_img =[]\r\n",
        "    for i, rock in enumerate(clases):\r\n",
        "        pathi = os.path.join(path,rock)\r\n",
        "        n_img.append(len(os.listdir(pathi)))\r\n",
        "    #print(n_img)\r\n",
        "    labels = []\r\n",
        "    for i in range(len(clases)):\r\n",
        "        labels.append([clases[i]]*n_img[i])\r\n",
        "    ylabels = labels[0]\r\n",
        "    for i in range(1,len(labels)):\r\n",
        "        ylabels += labels[i]\r\n",
        "    return ylabels, n_img\r\n",
        "\r\n",
        "def histograma(ylabels, clases, title, color=\"goldenrod\"):\r\n",
        "    #histogramas de las categorias de las imágenes \r\n",
        "    plt.figure(figsize=(15,6))\r\n",
        "    a = np.array(ylabels)\r\n",
        "    plt.hist(a, bins=np.arange(-0.5,len(clases)+0.5,1.0), rwidth=0.7, color=color, ec=color)\r\n",
        "    plt.title(title)\r\n",
        "    plt.show()\r\n",
        "\r\n",
        "ylabels, n_img = count_labels(folders, path_images)\r\n",
        "ntrain = np.sum(n_img)\r\n",
        "print(ntrain)\r\n",
        "histograma(ylabels, folders,\"EuroSAT dataset class distribution\", color=\"turquoise\")"
      ],
      "execution_count": null,
      "outputs": [
        {
          "output_type": "stream",
          "text": [
            "27000\n"
          ],
          "name": "stdout"
        },
        {
          "output_type": "display_data",
          "data": {
            "image/png": "[encoded data removed]",
            "text/plain": [
              "<Figure size 1080x432 with 1 Axes>"
            ]
          },
          "metadata": {
            "tags": []
          }
        }
      ]
    },
    {
      "cell_type": "code",
      "metadata": {
        "id": "p5gLLmsxrs_q"
      },
      "source": [
        "def fd_hog(image):\r\n",
        "  image = cv2.cvtColor(image, cv2.COLOR_BGR2GRAY)\r\n",
        "  # calculate the hog and return a visual representation.\r\n",
        "  H= hog(\r\n",
        "    image, pixels_per_cell=(6, 6),\r\n",
        "    cells_per_block=(2,2),\r\n",
        "    orientations=8,\r\n",
        "    visualize=False,\r\n",
        "    block_norm='L2-Hys')\r\n",
        "  return H"
      ],
      "execution_count": null,
      "outputs": []
    },
    {
      "cell_type": "code",
      "metadata": {
        "id": "ivbW-88TqJf9"
      },
      "source": [
        "# descriptor de rasgos: Momentos Hu \r\n",
        "def fd_hu_moments(image):\r\n",
        "  # convertir imagen en escala de grises\r\n",
        "  image = cv2.cvtColor(image, cv2.COLOR_BGR2GRAY)\r\n",
        "  # calculo del vector de rasgos de momentos Hu\r\n",
        "  feature = cv2.HuMoments(cv2.moments(image)).flatten()\r\n",
        "  return feature"
      ],
      "execution_count": null,
      "outputs": []
    },
    {
      "cell_type": "code",
      "metadata": {
        "id": "tq3S9U2eraqQ"
      },
      "source": [
        "# descriptor de rasgos: Haralick Texture\r\n",
        "def fd_haralick(image):\r\n",
        "  # convertir imagen en escala de grises\r\n",
        "  gray = cv2.cvtColor(image, cv2.COLOR_BGR2GRAY)\r\n",
        "  # calculo del vector de rasgos de textura haralick\r\n",
        "  haralick = mahotas.features.haralick(gray).mean(axis=0)\r\n",
        "  return haralick"
      ],
      "execution_count": null,
      "outputs": []
    },
    {
      "cell_type": "code",
      "metadata": {
        "id": "KFEEMfYKratd"
      },
      "source": [
        "# descriptor de rasgos: Histograma de color\r\n",
        "def fd_histogram(image, mask=None, bins=8):\r\n",
        "  # conversión de la imagen al espacio de color HSV\r\n",
        "  image = cv2.cvtColor(image, cv2.COLOR_BGR2HSV)\r\n",
        "  # calculo del histograma de color\r\n",
        "  hist  = cv2.calcHist([image], [0, 1, 2], None, [bins, bins, bins], [0, 256, 0, 256, 0, 256])\r\n",
        "  # normalización del histograma\r\n",
        "  cv2.normalize(hist, hist)\r\n",
        "  return hist.flatten()"
      ],
      "execution_count": null,
      "outputs": []
    },
    {
      "cell_type": "code",
      "metadata": {
        "colab": {
          "base_uri": "https://localhost:8080/",
          "height": 334
        },
        "id": "-WnH6LxEraxR",
        "outputId": "146e4e8e-ab22-4f44-fe60-c924131d74a0"
      },
      "source": [
        "imagen = imread(r'/content/drive/MyDrive/EuroSat/EuroSAT/Highway/Highway_100.jpg', as_gray=True)\r\n",
        " \r\n",
        "# scale down the image to one third\r\n",
        "#imagen = rescale(imagen, 1/3, mode='reflect')\r\n",
        "# calculate the hog and return a visual representation.\r\n",
        "imagen_hog, imagen_hog_img = hog(\r\n",
        "    imagen, pixels_per_cell=(6, 6),\r\n",
        "    cells_per_block=(2,2),\r\n",
        "    orientations=8,\r\n",
        "    visualize=True,\r\n",
        "    block_norm='L2-Hys')\r\n",
        " \r\n",
        "fig, ax = plt.subplots(1,2)\r\n",
        "fig.set_size_inches(8,6)\r\n",
        "# remove ticks and their labels\r\n",
        "[a.tick_params(bottom=False, left=False, labelbottom=False, labelleft=False)\r\n",
        "    for a in ax]\r\n",
        " \r\n",
        "ax[0].imshow(imagen, cmap='gray')\r\n",
        "ax[0].set_title('industrial')\r\n",
        "ax[1].imshow(imagen_hog_img, cmap='gray')\r\n",
        "ax[1].set_title('hog')\r\n",
        "plt.show()\r\n",
        "\r\n",
        "print(imagen_hog.shape)\r\n",
        "cv2.HuMoments(cv2.moments(imagen)).flatten()\r\n",
        "print(cv2.HuMoments(cv2.moments(imagen)).flatten())\r\n",
        "print('number of pixels: %s, %s'%(imagen.shape[0], imagen.shape[1]))\r\n",
        "print('number of hog features: ', imagen_hog.shape[0])"
      ],
      "execution_count": null,
      "outputs": [
        {
          "output_type": "display_data",
          "data": {
            "image/png": "[encoded data removed]",
            "text/plain": [
              "<Figure size 576x432 with 2 Axes>"
            ]
          },
          "metadata": {
            "tags": []
          }
        },
        {
          "output_type": "stream",
          "text": [
            "(2592,)\n",
            "[ 5.18039138e-01  1.19059350e-03  1.20241642e-03  3.39932720e-03\n",
            " -1.34159167e-06  1.05002214e-04 -6.74031579e-06]\n",
            "number of pixels: 64, 64\n",
            "number of hog features:  2592\n"
          ],
          "name": "stdout"
        }
      ]
    },
    {
      "cell_type": "code",
      "metadata": {
        "colab": {
          "base_uri": "https://localhost:8080/"
        },
        "id": "YUg0h2miDKSF",
        "outputId": "c0ce964d-e2ea-4d2d-d60e-b0033cc4c8cd"
      },
      "source": [
        "64*64*3"
      ],
      "execution_count": null,
      "outputs": [
        {
          "output_type": "execute_result",
          "data": {
            "text/plain": [
              "12288"
            ]
          },
          "metadata": {
            "tags": []
          },
          "execution_count": 13
        }
      ]
    },
    {
      "cell_type": "code",
      "metadata": {
        "colab": {
          "base_uri": "https://localhost:8080/"
        },
        "id": "53o2V6jkrazA",
        "outputId": "22ead6b7-3e06-4168-ce34-ab089294c9d5"
      },
      "source": [
        "ind_train=[]\r\n",
        "hist = [\"histogram_%s\"%i for i in range(512)]\r\n",
        "hal = [\"hal_%s\"%i for i in range(13)]\r\n",
        "hum = [\"hum_%s\"%i for i in range(7)]\r\n",
        "hogs = [\"hog_%s\"%i for i in range(2592)]\r\n",
        "cols = hist + hal+ hum + hogs + ['label']\r\n",
        "ind_train = [i for i in range(ntrain)]\r\n",
        "\r\n",
        "df = pd.DataFrame(columns = cols,index=ind_train) \r\n",
        "print(df.shape)"
      ],
      "execution_count": null,
      "outputs": [
        {
          "output_type": "stream",
          "text": [
            "(27000, 3125)\n"
          ],
          "name": "stdout"
        }
      ]
    },
    {
      "cell_type": "code",
      "metadata": {
        "id": "N1ZOtJPGqkNg"
      },
      "source": [
        "import re\r\n",
        "\r\n",
        "def atoi(text):\r\n",
        "    return int(text) if text.isdigit() else text\r\n",
        "\r\n",
        "def natural_keys(text):\r\n",
        "    '''\r\n",
        "    alist.sort(key=natural_keys) sorts in human order\r\n",
        "    http://nedbatchelder.com/blog/200712/human_sorting.html\r\n",
        "    (See Toothy's implementation in the comments)\r\n",
        "    '''\r\n",
        "    return [ atoi(c) for c in re.split(r'(\\d+)', text) ]"
      ],
      "execution_count": null,
      "outputs": []
    },
    {
      "cell_type": "code",
      "metadata": {
        "id": "W8iF5okwra6E"
      },
      "source": [
        "def global_features(df,path,labels):\r\n",
        "  ac=0\r\n",
        "  for name in labels:\r\n",
        "    # directorio de la clase\r\n",
        "    dirc = os.path.join(path, name)\r\n",
        "    # nombre de la clase actual\r\n",
        "    current_label = name\r\n",
        "    #print(current_label)\r\n",
        "    images = os.listdir(dirc)\r\n",
        "    images.sort(key=natural_keys)\r\n",
        "    # ciclo sobre cada imagen\r\n",
        "    for image_name in images:\r\n",
        "      # path de la imagen\r\n",
        "      fileim = os.path.join(dirc,image_name)\r\n",
        "      # lectura y redimensionar la imagen\r\n",
        "      image = cv2.imread(fileim)\r\n",
        "      #image = cv2.resize(image, fixed_size)\r\n",
        "      ####################################\r\n",
        "      # Extraccion de rasgos globales\r\n",
        "      ####################################\r\n",
        "      fv_hu_moments = fd_hu_moments(image)\r\n",
        "      fv_haralick   = fd_haralick(image)\r\n",
        "      fv_histogram  = fd_histogram(image)\r\n",
        "      fv_hog  = fd_hog(image)\r\n",
        "      ###################################\r\n",
        "      # Concatenacion de rasgos\r\n",
        "      ###################################\r\n",
        "      linea = np.hstack([fv_histogram, fv_haralick, fv_hu_moments, fv_hog, current_label])\r\n",
        "      # agrega linea al dataframe vacío \r\n",
        "      df.iloc[ac] = linea\r\n",
        "      ac+=1\r\n",
        "      if ac%500==0:\r\n",
        "        print(\"Terminó: %s\"%fileim)\r\n",
        "    print(\"Folder procesado: {}\".format(current_label))\r\n",
        "  print(\"Extracción de rasgos globales completa\")"
      ],
      "execution_count": null,
      "outputs": []
    },
    {
      "cell_type": "code",
      "metadata": {
        "colab": {
          "background_save": true,
          "base_uri": "https://localhost:8080/"
        },
        "id": "uE5lAOgtqJiT",
        "outputId": "81896ed3-64d1-422a-bd9a-25417149e23f"
      },
      "source": [
        "global_features(df, path, folders)"
      ],
      "execution_count": null,
      "outputs": [
        {
          "output_type": "stream",
          "text": [
            "Terminó: /content/drive/MyDrive/EuroSat/EuroSAT/AnnualCrop/AnnualCrop_500.jpg\n",
            "Terminó: /content/drive/MyDrive/EuroSat/EuroSAT/AnnualCrop/AnnualCrop_1000.jpg\n",
            "Terminó: /content/drive/MyDrive/EuroSat/EuroSAT/AnnualCrop/AnnualCrop_1500.jpg\n",
            "Terminó: /content/drive/MyDrive/EuroSat/EuroSAT/AnnualCrop/AnnualCrop_2000.jpg\n",
            "Terminó: /content/drive/MyDrive/EuroSat/EuroSAT/AnnualCrop/AnnualCrop_2500.jpg\n",
            "Terminó: /content/drive/MyDrive/EuroSat/EuroSAT/AnnualCrop/AnnualCrop_3000.jpg\n",
            "Folder procesado: AnnualCrop\n",
            "Terminó: /content/drive/MyDrive/EuroSat/EuroSAT/Forest/Forest_500.jpg\n",
            "Terminó: /content/drive/MyDrive/EuroSat/EuroSAT/Forest/Forest_1000.jpg\n",
            "Terminó: /content/drive/MyDrive/EuroSat/EuroSAT/Forest/Forest_1500.jpg\n",
            "Terminó: /content/drive/MyDrive/EuroSat/EuroSAT/Forest/Forest_2000.jpg\n",
            "Terminó: /content/drive/MyDrive/EuroSat/EuroSAT/Forest/Forest_2500.jpg\n",
            "Terminó: /content/drive/MyDrive/EuroSat/EuroSAT/Forest/Forest_3000.jpg\n",
            "Folder procesado: Forest\n",
            "Terminó: /content/drive/MyDrive/EuroSat/EuroSAT/HerbaceousVegetation/HerbaceousVegetation_500.jpg\n",
            "Terminó: /content/drive/MyDrive/EuroSat/EuroSAT/HerbaceousVegetation/HerbaceousVegetation_1000.jpg\n",
            "Terminó: /content/drive/MyDrive/EuroSat/EuroSAT/HerbaceousVegetation/HerbaceousVegetation_1500.jpg\n",
            "Terminó: /content/drive/MyDrive/EuroSat/EuroSAT/HerbaceousVegetation/HerbaceousVegetation_2000.jpg\n",
            "Terminó: /content/drive/MyDrive/EuroSat/EuroSAT/HerbaceousVegetation/HerbaceousVegetation_2500.jpg\n",
            "Terminó: /content/drive/MyDrive/EuroSat/EuroSAT/HerbaceousVegetation/HerbaceousVegetation_3000.jpg\n",
            "Folder procesado: HerbaceousVegetation\n",
            "Terminó: /content/drive/MyDrive/EuroSat/EuroSAT/Highway/Highway_500.jpg\n",
            "Terminó: /content/drive/MyDrive/EuroSat/EuroSAT/Highway/Highway_1000.jpg\n",
            "Terminó: /content/drive/MyDrive/EuroSat/EuroSAT/Highway/Highway_1500.jpg\n",
            "Terminó: /content/drive/MyDrive/EuroSat/EuroSAT/Highway/Highway_2000.jpg\n",
            "Terminó: /content/drive/MyDrive/EuroSat/EuroSAT/Highway/Highway_2500.jpg\n",
            "Folder procesado: Highway\n",
            "Terminó: /content/drive/MyDrive/EuroSat/EuroSAT/Industrial/Industrial_500.jpg\n",
            "Terminó: /content/drive/MyDrive/EuroSat/EuroSAT/Industrial/Industrial_1000.jpg\n",
            "Terminó: /content/drive/MyDrive/EuroSat/EuroSAT/Industrial/Industrial_1500.jpg\n",
            "Terminó: /content/drive/MyDrive/EuroSat/EuroSAT/Industrial/Industrial_2000.jpg\n",
            "Terminó: /content/drive/MyDrive/EuroSat/EuroSAT/Industrial/Industrial_2500.jpg\n",
            "Folder procesado: Industrial\n",
            "Terminó: /content/drive/MyDrive/EuroSat/EuroSAT/Pasture/Pasture_500.jpg\n",
            "Terminó: /content/drive/MyDrive/EuroSat/EuroSAT/Pasture/Pasture_1000.jpg\n",
            "Terminó: /content/drive/MyDrive/EuroSat/EuroSAT/Pasture/Pasture_1500.jpg\n",
            "Terminó: /content/drive/MyDrive/EuroSat/EuroSAT/Pasture/Pasture_2000.jpg\n",
            "Folder procesado: Pasture\n",
            "Terminó: /content/drive/MyDrive/EuroSat/EuroSAT/PermanentCrop/PermanentCrop_500.jpg\n",
            "Terminó: /content/drive/MyDrive/EuroSat/EuroSAT/PermanentCrop/PermanentCrop_1000.jpg\n",
            "Terminó: /content/drive/MyDrive/EuroSat/EuroSAT/PermanentCrop/PermanentCrop_1500.jpg\n",
            "Terminó: /content/drive/MyDrive/EuroSat/EuroSAT/PermanentCrop/PermanentCrop_2000.jpg\n",
            "Terminó: /content/drive/MyDrive/EuroSat/EuroSAT/PermanentCrop/PermanentCrop_2500.jpg\n",
            "Folder procesado: PermanentCrop\n",
            "Terminó: /content/drive/MyDrive/EuroSat/EuroSAT/Residential/Residential_500.jpg\n",
            "Terminó: /content/drive/MyDrive/EuroSat/EuroSAT/Residential/Residential_1000.jpg\n",
            "Terminó: /content/drive/MyDrive/EuroSat/EuroSAT/Residential/Residential_1500.jpg\n",
            "Terminó: /content/drive/MyDrive/EuroSat/EuroSAT/Residential/Residential_2000.jpg\n",
            "Terminó: /content/drive/MyDrive/EuroSat/EuroSAT/Residential/Residential_2500.jpg\n",
            "Terminó: /content/drive/MyDrive/EuroSat/EuroSAT/Residential/Residential_3000.jpg\n",
            "Folder procesado: Residential\n",
            "Terminó: /content/drive/MyDrive/EuroSat/EuroSAT/River/River_500.jpg\n",
            "Terminó: /content/drive/MyDrive/EuroSat/EuroSAT/River/River_1000.jpg\n",
            "Terminó: /content/drive/MyDrive/EuroSat/EuroSAT/River/River_1500.jpg\n",
            "Terminó: /content/drive/MyDrive/EuroSat/EuroSAT/River/River_2000.jpg\n",
            "Terminó: /content/drive/MyDrive/EuroSat/EuroSAT/River/River_2500.jpg\n",
            "Folder procesado: River\n",
            "Terminó: /content/drive/MyDrive/EuroSat/EuroSAT/SeaLake/SeaLake_500.jpg\n",
            "Terminó: /content/drive/MyDrive/EuroSat/EuroSAT/SeaLake/SeaLake_1000.jpg\n",
            "Terminó: /content/drive/MyDrive/EuroSat/EuroSAT/SeaLake/SeaLake_1500.jpg\n",
            "Terminó: /content/drive/MyDrive/EuroSat/EuroSAT/SeaLake/SeaLake_2000.jpg\n",
            "Terminó: /content/drive/MyDrive/EuroSat/EuroSAT/SeaLake/SeaLake_2500.jpg\n",
            "Terminó: /content/drive/MyDrive/EuroSat/EuroSAT/SeaLake/SeaLake_3000.jpg\n",
            "Folder procesado: SeaLake\n",
            "Extracción de rasgos globales completa\n"
          ],
          "name": "stdout"
        }
      ]
    },
    {
      "cell_type": "code",
      "metadata": {
        "id": "wJsDIOHZqJlI"
      },
      "source": [
        "df.to_csv(os.path.join(path,'EUROSAT_LOC_GLOB_skim.csv'), index=False)"
      ],
      "execution_count": null,
      "outputs": []
    }
  ]
}